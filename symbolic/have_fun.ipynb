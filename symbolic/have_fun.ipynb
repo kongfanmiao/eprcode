{
 "cells": [
  {
   "cell_type": "code",
   "execution_count": 1,
   "metadata": {},
   "outputs": [],
   "source": [
    "from sympy import *\n",
    "from sympy.physics.quantum import *\n",
    "from sympy.core.numbers import I, One\n",
    "from sympy.simplify.fu import *\n",
    "from IPython.display import display"
   ]
  },
  {
   "cell_type": "code",
   "execution_count": 2,
   "metadata": {},
   "outputs": [],
   "source": [
    "sigma_x = Matrix([[0,1],[1,0]])\n",
    "sigma_y = Matrix([[0,-I],[I,0]])\n",
    "sigma_z = Matrix([[1,0],[0,-1]])\n",
    "one = Identity(2).as_mutable()\n",
    "sx = sigma_x/2\n",
    "ix = sigma_x/2\n",
    "sy = sigma_y/2\n",
    "iy = sigma_y/2\n",
    "iy = sigma_y/2\n",
    "sz = sigma_z/2\n",
    "iz = sigma_z/2"
   ]
  },
  {
   "cell_type": "code",
   "execution_count": 3,
   "metadata": {},
   "outputs": [],
   "source": [
    "class ProductOperator(UnitaryOperator):\n",
    "\n",
    "    def __new__(cls, label, *args, matrix, **kwargs):\n",
    "        inst = super().__new__(cls, label, *args, **kwargs)\n",
    "        inst.matrix = matrix\n",
    "        return inst\n",
    "    \n",
    "    def __str__(self):\n",
    "        display(*self.label)\n",
    "        return ''\n",
    "    \n",
    "    def doit(self):\n",
    "        return self.matrix\n",
    "    \n",
    "    def norm(self):\n",
    "        norm = sqrt((self.matrix*Dagger(self.matrix)).trace())\n",
    "        return norm\n",
    "    \n",
    "    @property\n",
    "    def is_normalized(self):\n",
    "        return True if self.norm()==1 else False\n",
    "\n",
    "    def as_normalized(self):\n",
    "        return self/self.norm()\n"
   ]
  },
  {
   "cell_type": "code",
   "execution_count": 4,
   "metadata": {},
   "outputs": [],
   "source": [
    "One = ProductOperator('I', matrix=TensorProduct(one,one))\n",
    "Sx = ProductOperator('S_x', matrix=TensorProduct(sx,one))\n",
    "Sy = ProductOperator('S_y', matrix=TensorProduct(sy,one))\n",
    "Sz = ProductOperator('S_z', matrix=TensorProduct(sz,one))\n",
    "Ix = ProductOperator('I_x', matrix=TensorProduct(one,ix))\n",
    "Iy = ProductOperator('I_y', matrix=TensorProduct(one,iy))\n",
    "Iz = ProductOperator('I_z', matrix=TensorProduct(one,iz))\n",
    "SzIx = ProductOperator('S_{z}I_{x}', matrix=TensorProduct(sz,ix))\n",
    "SzIy = ProductOperator('S_{z}I_{y}', matrix=TensorProduct(sz,iy))\n",
    "SxIz = ProductOperator('S_{x}I_{z}', matrix=TensorProduct(sx,iz))\n",
    "SyIz = ProductOperator('S_{y}I_{z}', matrix=TensorProduct(sy,iz))\n",
    "SzIz = ProductOperator('S_{z}I_{z}', matrix=TensorProduct(sz,iz))\n",
    "SxIx = ProductOperator('S_{x}I_{x}', matrix=TensorProduct(sx,ix))\n",
    "SyIy = ProductOperator('S_{y}I_{y}', matrix=TensorProduct(sy,iy))\n",
    "SxIy = ProductOperator('S_{x}I_{y}', matrix=TensorProduct(sx,iy))\n",
    "SyIx = ProductOperator('S_{y}I_{x}', matrix=TensorProduct(sy,ix))\n",
    "\n",
    "basis_set = [One, Sx, Sy, Sz, Ix, Iy, Iz, SzIx, SzIy, SxIz, SyIz,\n",
    "             SzIz, SxIx, SyIy, SxIy, SyIx]"
   ]
  },
  {
   "cell_type": "code",
   "execution_count": 5,
   "metadata": {},
   "outputs": [],
   "source": [
    "Omega_S, omega_I, a_iso, A, B, t = symbols('Omega_S omega_I a_iso A B t', real=True)"
   ]
  },
  {
   "cell_type": "code",
   "execution_count": 6,
   "metadata": {},
   "outputs": [],
   "source": [
    "def get_coef(matrix, base:ProductOperator):\n",
    "    base_norm = base.norm()\n",
    "    if isinstance(matrix, MatrixBase):\n",
    "        coef = (base.as_normalized().doit()*matrix).trace()\n",
    "    else:\n",
    "        coef = (base.as_normalized()*matrix).doit().trace()\n",
    "    coef = coef/base_norm  \n",
    "    coef = simplify(coef, rational=True)     \n",
    "    return coef"
   ]
  },
  {
   "cell_type": "code",
   "execution_count": 7,
   "metadata": {},
   "outputs": [],
   "source": [
    "class DensityMatrix(ProductOperator):\n",
    "\n",
    "    def __new__(cls, label, *args, matrix, **kwargs):\n",
    "        tmp_inst = super().__new__(cls, label, *args, matrix=matrix, **kwargs)\n",
    "        new_label = tmp_inst.operators_repr()\n",
    "        inst = super().__new__(cls, new_label, *args, matrix=matrix, **kwargs)\n",
    "        return inst\n",
    "   \n",
    "    def operators_repr(self):\n",
    "        rep = 0\n",
    "        for base in basis_set:\n",
    "            coef = get_coef(self.matrix, base)\n",
    "            rep += base*coef\n",
    "        return rep\n"
   ]
  },
  {
   "cell_type": "code",
   "execution_count": 8,
   "metadata": {},
   "outputs": [],
   "source": [
    "def spin_evolve(A:ProductOperator, B:ProductOperator, phi):\n",
    "    \"\"\"\n",
    "    Evolution of spin state\n",
    "    Args:\n",
    "        A: initial state\n",
    "        B: Hamiltonian\n",
    "        phi: rotation angle\n",
    "    \"\"\" \n",
    "    angle = phi*nsimplify(B.norm())\n",
    "    res = A*cos(angle) + I*Commutator(A,B.as_normalized())*sin(angle)\n",
    "    res_matrix = res.doit()\n",
    "    res_matrix = simplify(res_matrix, rational=True)\n",
    "    ret = DensityMatrix('sigma', matrix=res_matrix)\n",
    "    return ret"
   ]
  },
  {
   "cell_type": "code",
   "execution_count": 9,
   "metadata": {},
   "outputs": [
    {
     "data": {
      "text/latex": [
       "$\\displaystyle - \\sin{\\left(\\Omega_{S} t \\right)} S_{x} + \\cos{\\left(\\Omega_{S} t \\right)} S_{y}$"
      ],
      "text/plain": [
       "-sin(Omega_S*t)*S_x + cos(Omega_S*t)*S_y"
      ]
     },
     "execution_count": 9,
     "metadata": {},
     "output_type": "execute_result"
    }
   ],
   "source": [
    "s1 = spin_evolve(Sy, Sz, Omega_S*t)\n",
    "s1"
   ]
  },
  {
   "cell_type": "code",
   "execution_count": 10,
   "metadata": {},
   "outputs": [
    {
     "data": {
      "text/latex": [
       "$\\displaystyle \\left[\\begin{matrix}0 & 0 & - \\frac{\\sin{\\left(\\Omega_{S} t \\right)}}{2} - \\frac{i \\cos{\\left(\\Omega_{S} t \\right)}}{2} & 0\\\\0 & 0 & 0 & - \\frac{\\sin{\\left(\\Omega_{S} t \\right)}}{2} - \\frac{i \\cos{\\left(\\Omega_{S} t \\right)}}{2}\\\\- \\frac{\\sin{\\left(\\Omega_{S} t \\right)}}{2} + \\frac{i \\cos{\\left(\\Omega_{S} t \\right)}}{2} & 0 & 0 & 0\\\\0 & - \\frac{\\sin{\\left(\\Omega_{S} t \\right)}}{2} + \\frac{i \\cos{\\left(\\Omega_{S} t \\right)}}{2} & 0 & 0\\end{matrix}\\right]$"
      ],
      "text/plain": [
       "Matrix([\n",
       "[                                     0,                                      0, -sin(Omega_S*t)/2 - I*cos(Omega_S*t)/2,                                      0],\n",
       "[                                     0,                                      0,                                      0, -sin(Omega_S*t)/2 - I*cos(Omega_S*t)/2],\n",
       "[-sin(Omega_S*t)/2 + I*cos(Omega_S*t)/2,                                      0,                                      0,                                      0],\n",
       "[                                     0, -sin(Omega_S*t)/2 + I*cos(Omega_S*t)/2,                                      0,                                      0]])"
      ]
     },
     "execution_count": 10,
     "metadata": {},
     "output_type": "execute_result"
    }
   ],
   "source": [
    "s1.doit()"
   ]
  },
  {
   "cell_type": "code",
   "execution_count": 11,
   "metadata": {},
   "outputs": [
    {
     "data": {
      "text/latex": [
       "$\\displaystyle - 2 \\sin{\\left(\\Omega_{S} t \\right)} \\sin{\\left(\\frac{a_{iso} t}{2} \\right)} S_{y}I_{z} - \\sin{\\left(\\Omega_{S} t \\right)} \\cos{\\left(\\frac{a_{iso} t}{2} \\right)} S_{x} - 2 \\sin{\\left(\\frac{a_{iso} t}{2} \\right)} \\cos{\\left(\\Omega_{S} t \\right)} S_{x}I_{z} + \\cos{\\left(\\Omega_{S} t \\right)} \\cos{\\left(\\frac{a_{iso} t}{2} \\right)} S_{y}$"
      ],
      "text/plain": [
       "-2*sin(Omega_S*t)*sin(a_iso*t/2)*S_{y}I_{z} - sin(Omega_S*t)*cos(a_iso*t/2)*S_x - 2*sin(a_iso*t/2)*cos(Omega_S*t)*S_{x}I_{z} + cos(Omega_S*t)*cos(a_iso*t/2)*S_y"
      ]
     },
     "execution_count": 11,
     "metadata": {},
     "output_type": "execute_result"
    }
   ],
   "source": [
    "s2 = spin_evolve(s1, SzIz, a_iso*t)\n",
    "s2"
   ]
  },
  {
   "cell_type": "code",
   "execution_count": 12,
   "metadata": {},
   "outputs": [
    {
     "data": {
      "text/latex": [
       "$\\displaystyle \\left[\\begin{matrix}0 & 0 & - \\frac{\\sin{\\left(t \\left(\\Omega_{S} + \\frac{a_{iso}}{2}\\right) \\right)}}{2} - \\frac{i \\cos{\\left(t \\left(\\Omega_{S} + \\frac{a_{iso}}{2}\\right) \\right)}}{2} & 0\\\\0 & 0 & 0 & - \\frac{\\sin{\\left(t \\left(\\Omega_{S} - \\frac{a_{iso}}{2}\\right) \\right)}}{2} - \\frac{i \\cos{\\left(t \\left(\\Omega_{S} - \\frac{a_{iso}}{2}\\right) \\right)}}{2}\\\\- \\frac{\\sin{\\left(t \\left(\\Omega_{S} + \\frac{a_{iso}}{2}\\right) \\right)}}{2} + \\frac{i \\cos{\\left(t \\left(\\Omega_{S} + \\frac{a_{iso}}{2}\\right) \\right)}}{2} & 0 & 0 & 0\\\\0 & - \\frac{\\sin{\\left(t \\left(\\Omega_{S} - \\frac{a_{iso}}{2}\\right) \\right)}}{2} + \\frac{i \\cos{\\left(t \\left(\\Omega_{S} - \\frac{a_{iso}}{2}\\right) \\right)}}{2} & 0 & 0\\end{matrix}\\right]$"
      ],
      "text/plain": [
       "Matrix([\n",
       "[                                                             0,                                                              0, -sin(t*(Omega_S + a_iso/2))/2 - I*cos(t*(Omega_S + a_iso/2))/2,                                                              0],\n",
       "[                                                             0,                                                              0,                                                              0, -sin(t*(Omega_S - a_iso/2))/2 - I*cos(t*(Omega_S - a_iso/2))/2],\n",
       "[-sin(t*(Omega_S + a_iso/2))/2 + I*cos(t*(Omega_S + a_iso/2))/2,                                                              0,                                                              0,                                                              0],\n",
       "[                                                             0, -sin(t*(Omega_S - a_iso/2))/2 + I*cos(t*(Omega_S - a_iso/2))/2,                                                              0,                                                              0]])"
      ]
     },
     "execution_count": 12,
     "metadata": {},
     "output_type": "execute_result"
    }
   ],
   "source": [
    "s2.doit()"
   ]
  },
  {
   "cell_type": "code",
   "execution_count": 13,
   "metadata": {},
   "outputs": [],
   "source": [
    "eta_alpha, eta_beta, eta, xi = symbols('eta_alpha eta_beta eta xi', real=True)\n",
    "omega_12, omega_34, omega_plus, omega_minus = symbols('omega_12, omega_34, omega_+, omega_-', real=True)\n",
    "\n",
    "constr1 = Eq(eta_alpha, atan(-B/(A+2*omega_I)))\n",
    "constr2 = Eq(eta_beta, atan(-B/(A-2*omega_I)))"
   ]
  },
  {
   "cell_type": "code",
   "execution_count": 14,
   "metadata": {},
   "outputs": [],
   "source": [
    "eta_alpha = atan(-B/(A+2*omega_I))\n",
    "eta_beta = atan(-B/(A-2*omega_I))\n",
    "xi = (eta_alpha+eta_beta)/2\n",
    "eta = (eta_alpha-eta_beta)/2\n",
    "omega_12 = (omega_I+A/2)*cos(eta_alpha) - B/2*sin(eta_alpha)\n",
    "omega_34 = (omega_I-A/2)*cos(eta_beta) + B/2*sin(eta_beta)\n",
    "omega_plus = omega_12 + omega_34\n",
    "omega_minus = omega_12 - omega_34"
   ]
  },
  {
   "cell_type": "code",
   "execution_count": 15,
   "metadata": {},
   "outputs": [
    {
     "data": {
      "text/latex": [
       "$\\displaystyle \\left[\\begin{matrix}\\frac{A}{4} + \\frac{\\Omega_{S}}{2} + \\frac{\\omega_{I}}{2} & \\frac{B}{4} & 0 & 0\\\\\\frac{B}{4} & - \\frac{A}{4} + \\frac{\\Omega_{S}}{2} - \\frac{\\omega_{I}}{2} & 0 & 0\\\\0 & 0 & - \\frac{A}{4} - \\frac{\\Omega_{S}}{2} + \\frac{\\omega_{I}}{2} & - \\frac{B}{4}\\\\0 & 0 & - \\frac{B}{4} & \\frac{A}{4} - \\frac{\\Omega_{S}}{2} - \\frac{\\omega_{I}}{2}\\end{matrix}\\right]$"
      ],
      "text/plain": [
       "Matrix([\n",
       "[A/4 + Omega_S/2 + omega_I/2,                          B/4,                            0,                           0],\n",
       "[                        B/4, -A/4 + Omega_S/2 - omega_I/2,                            0,                           0],\n",
       "[                          0,                            0, -A/4 - Omega_S/2 + omega_I/2,                        -B/4],\n",
       "[                          0,                            0,                         -B/4, A/4 - Omega_S/2 - omega_I/2]])"
      ]
     },
     "execution_count": 15,
     "metadata": {},
     "output_type": "execute_result"
    }
   ],
   "source": [
    "H0 = Omega_S*Sz + omega_I*Iz + A*SzIz + B*SzIx\n",
    "H0.doit()"
   ]
  },
  {
   "cell_type": "code",
   "execution_count": 24,
   "metadata": {},
   "outputs": [],
   "source": [
    "Uexpo = -I*(xi*Iy+2*eta*SzIy).doit()"
   ]
  },
  {
   "cell_type": "code",
   "execution_count": 26,
   "metadata": {},
   "outputs": [],
   "source": [
    "U = exp(Uexpo)"
   ]
  },
  {
   "cell_type": "code",
   "execution_count": null,
   "metadata": {},
   "outputs": [],
   "source": []
  }
 ],
 "metadata": {
  "interpreter": {
   "hash": "e7370f93d1d0cde622a1f8e1c04877d8463912d04d973331ad4851f04de6915a"
  },
  "kernelspec": {
   "display_name": "Python 3.9.6 64-bit",
   "language": "python",
   "name": "python3"
  },
  "language_info": {
   "codemirror_mode": {
    "name": "ipython",
    "version": 3
   },
   "file_extension": ".py",
   "mimetype": "text/x-python",
   "name": "python",
   "nbconvert_exporter": "python",
   "pygments_lexer": "ipython3",
   "version": "3.8.5"
  },
  "orig_nbformat": 4
 },
 "nbformat": 4,
 "nbformat_minor": 2
}
